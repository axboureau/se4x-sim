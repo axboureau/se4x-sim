{
 "cells": [
  {
   "cell_type": "code",
   "execution_count": 2,
   "metadata": {
    "collapsed": true
   },
   "outputs": [],
   "source": [
    "from libse4x import Upgrades, fight\n",
    "from copy import deepcopy"
   ]
  },
  {
   "cell_type": "code",
   "execution_count": 3,
   "metadata": {
    "collapsed": true
   },
   "outputs": [],
   "source": [
    "# Ships\n",
    "s_scout = {'name':'Scout', 'cost':6, 'prio':5, 'att':3, 'def':0, 'size':1}\n",
    "s_destro = { 'name':'Destroyer', 'cost':9, 'prio':4, 'att':4, 'def':0, 'size':1 }\n",
    "s_cruiser = { 'name':'Cruiser', 'cost':12, 'prio':3, 'att':4, 'def':1, 'size':2 }\n",
    "s_bc = { 'name':'Battlecruiser', 'cost':15, 'prio':2, 'att':5, 'def':1, 'size':2 }\n",
    "s_bb = { 'name':'Battleship', 'cost':20, 'prio':1, 'att':5, 'def':2, 'size':3 }\n",
    "s_dread = { 'name':'Dreadnaught', 'cost':24, 'prio':1, 'att':6, 'def':3, 'size':3 }\n",
    "# with specials\n",
    "s_titan = { 'name':'Titan', 'cost':32, 'prio':1, 'att':7, 'def':3, 'size':5 }\n",
    "s_board = { 'name':'Boarding', 'cost':15, 'prio':6, 'att':5, 'def':0, 'size':2 }\n",
    "s_carrier = { 'name':'Carrier', 'cost':5, 'prio':5, 'att':3, 'def':1, 'size':1 }\n",
    "s_transport = { 'name':'Transport', 'cost':6, 'prio':5, 'att':1, 'def':1, 'size':1 }\n",
    "\n",
    "s_base = { 'name':'Base', 'cost':12, 'prio':1, 'att':7, 'def':2, 'size':3 }\n",
    "s_shipyard = { 'name':'Shipyard', 'cost':6, 'prio':3, 'att':3, 'def':1, 'size':1 }\n",
    "\n",
    "s_board_prepatch = { 'name':'Boarding (prepatch)', 'cost':12, 'prio':6, 'att':5, 'def':0, 'size':2 }\n",
    "s_raider_nocloak = { 'name':'Raider', 'cost':12, 'prio':4, 'att':4, 'def':0, 'size':2 }\n",
    "s_raider_cloaked = { 'name':'Raider (clkd)', 'cost':12, 'prio':1, 'att':5, 'def':0, 'size':2 }\n",
    "\n",
    "s_fighter = { 'name':'Fighter', 'cost':5, 'prio':2, 'att':5, 'def':0, 'size':1 }\n",
    "\n",
    "s_sweeper = { 'name':'Sweeper', 'cost':6, 'prio':5, 'att':1, 'def':0, 'size':1 }\n",
    "\n",
    "s_ddx = { 'name':'DDX', 'cost':9, 'prio':4, 'att':4, 'def':0, 'size':1 }\n",
    "s_board_ins = { 'name':'Boarding (insectoids)', 'cost':12, 'prio':6, 'att':5, 'def':0, 'size':1 }\n",
    "\n",
    "s_alienb = { 'name':'Alien B', 'cost':0, 'prio':2, 'att':6, 'def':2, 'size':1 }\n",
    "s_alienc = { 'name':'Alien C', 'cost':0, 'prio':3, 'att':5, 'def':2, 'size':1 }\n",
    "s_aliend = { 'name':'Alien D', 'cost':0, 'prio':4, 'att':4, 'def':1, 'size':1 }\n",
    "\n",
    "s_flagship = { 'name':'HMS Jeff', 'cost':0, 'prio':2, 'att':4, 'def':1, 'size':3 }\n",
    "\n",
    "# Cloaking geniuses\n",
    "s_scout_cg = {'name':'Scout clkd', 'cost':6, 'prio':1, 'att':3, 'def':0, 'size':1}\n",
    "s_destro_cg = { 'name':'Destroyer clkd', 'cost':9, 'prio':1, 'att':4, 'def':0, 'size':1 }\n",
    "s_cruiser_cg = { 'name':'Cruiser clkd', 'cost':12, 'prio':1, 'att':4, 'def':1, 'size':2 }\n"
   ]
  },
  {
   "cell_type": "code",
   "execution_count": 10,
   "metadata": {
    "scrolled": false
   },
   "outputs": [
    {
     "name": "stdout",
     "output_type": "stream",
     "text": [
      "Combat starting. 1 ATT vs. 1 DEF\n",
      "DEF Scout         at 1/1 hp, prio : 5.80 \n",
      "ATT Scout         at 1/1 hp, prio : 5.90 \n",
      "--------------------------------------------------------------------------------\n",
      "    DEF Scout         [0] rolls  7/ 4 vs. ATT Scout         [1]\n",
      "    ATT Scout         [1] rolls  5/ 2 vs. DEF Scout         [0]\n",
      "Combat round 1 finished. Ships left : 1 ATT vs. 1 DEF\n",
      "--------------------------------------------------------------------------------\n",
      "    DEF Scout         [0] rolls  4/ 4 vs. ATT Scout         [1]\n",
      "ATT Scout [1] hit by Scout [0] (roll:4/4)\n",
      "ATT Scout [1] destroyed by Scout [0] (roll:4/4)\n",
      "DEF Scout         at 1/1 hp, prio : 5.80 X\n",
      "ATT Scout         at 0/1 hp, prio : 5.90 DEAD\n",
      "Combat round 2 finished. Ships left : 0 ATT vs. 1 DEF\n",
      "--------------------------------------------------------------------------------\n",
      "Combat finished. Ships left : 0 ATT vs. 1 DEF\n",
      "DEF Scout         at 1/1 hp, prio : 5.80 X\n",
      "ATT Scout         at 0/1 hp, prio : 5.90 DEAD\n",
      "================================================================================\n",
      "Att CP lost: 6 - Def CP lost : 0\n"
     ]
    }
   ],
   "source": [
    "nb_att, nb_def, next_ships, att_cp_lost, def_cp_lost = fight(\n",
    "            [s_scout], Upgrades(attack=0,defense=0),\n",
    "            [s_scout], Upgrades(attack=1,defense=1),\n",
    "            verbose=True)\n",
    "print(\"Att CP lost: {} - Def CP lost : {}\".format(att_cp_lost, def_cp_lost))"
   ]
  },
  {
   "cell_type": "code",
   "execution_count": 14,
   "metadata": {},
   "outputs": [
    {
     "name": "stdout",
     "output_type": "stream",
     "text": [
      "Boarding      vs. Destroyer     => % hit = 49.9, avg roll = 5.515, to hit = 5\n"
     ]
    }
   ],
   "source": [
    "noup = Upgrades()\n",
    "fullup = Upgrades(attack=3, defense=3, boarding=2, security=2, cloaking=2, fighter=3, tactics=3)\n",
    "sum_hits = 0\n",
    "sum_rolls = 0\n",
    "sum_tohit = 0\n",
    "\n",
    "atts = s_board\n",
    "defs = s_destro\n",
    "attu = fullup\n",
    "defu = noup\n",
    "n_sim = 10000\n",
    "\n",
    "for i in range(n_sim):\n",
    "    hit, roll, tohit = libse4x.roll_attack(atts, defs, attu, defu)\n",
    "    sum_hits += hit\n",
    "    sum_rolls += roll\n",
    "    sum_tohit += tohit\n",
    "print(\"{:13} vs. {:13} => % hit = {:.1f}, avg roll = {:.3f}, to hit = {:.0f}\".format(atts['name'], defs['name'], 100. * sum_hits / n_sim, 1. * sum_rolls / n_sim, sum_tohit / n_sim))\n",
    "\n",
    "fullup_tactics0 = deepcopy(fullup)\n",
    "fullup_tactics0.tactics = 0\n",
    "up_boarding1 = Upgrades(boarding=1)\n",
    "up_bd1def1 = Upgrades(defense=1, boarding=1)\n",
    "fullup_nosec = deepcopy(fullup)\n",
    "fullup_nosec.security = 0"
   ]
  },
  {
   "cell_type": "code",
   "execution_count": 15,
   "metadata": {},
   "outputs": [
    {
     "name": "stdout",
     "output_type": "stream",
     "text": [
      "Boarding      : 21\n",
      "Boarding (prepatch) : 18\n",
      "Boarding (insectoids) : 15\n",
      "Scout         : 9\n",
      "Destroyer     : 12\n",
      "Cruiser       : 18\n",
      "Battlecruiser : 21\n",
      "Battleship    : 29\n",
      "Dreadnaught   : 33\n",
      "Titan         : 47\n",
      "Fighter       : 8\n",
      "Carrier       : 8\n"
     ]
    }
   ],
   "source": [
    "def show_cost(ship):\n",
    "    print('{:13} : {}'.format(ship['name'], ship['cost'] + 3*ship['size']))\n",
    "\n",
    "show_cost(s_board)\n",
    "show_cost(s_board_prepatch)\n",
    "show_cost(s_board_ins)\n",
    "show_cost(s_scout)\n",
    "show_cost(s_destro)\n",
    "show_cost(s_cruiser)\n",
    "show_cost(s_bc)\n",
    "show_cost(s_bb)\n",
    "show_cost(s_dread)\n",
    "show_cost(s_titan)\n",
    "show_cost(s_fighter)\n",
    "show_cost(s_carrier)"
   ]
  },
  {
   "cell_type": "code",
   "execution_count": 16,
   "metadata": {},
   "outputs": [
    {
     "name": "stdout",
     "output_type": "stream",
     "text": [
      " 2000 sims, ATT won 53% [lost:29.5], DEF won 47% [lost:29.3]\n"
     ]
    }
   ],
   "source": [
    "nb_sims = 2000\n",
    "att_wins = 0\n",
    "def_wins = 0\n",
    "att_cps_lost = 0\n",
    "def_cps_lost = 0\n",
    "\n",
    "destros = [s_destro,s_destro]\n",
    "scouts_5  = [s_scout,s_scout,s_scout,s_scout,s_scout]\n",
    "scouts_3 = [s_scout,s_scout,s_scout]\n",
    "bc_1 = [s_bc]\n",
    "board_2 = [s_board,s_board]\n",
    "dn_1 = [s_dread]\n",
    "boardi_2 = [s_board_ins,s_board_ins]\n",
    "\n",
    "bc_4 = [s_bc,s_bc,s_bc,s_bc]\n",
    "bd_4 = [s_board,s_board,s_board,s_board]\n",
    "aliens = [s_alienb,s_alienc,s_alienc,s_aliend]\n",
    "\n",
    "mixed = [s_board,s_board,s_scout,s_scout,s_scout]\n",
    "\n",
    "for i in range(nb_sims):\n",
    "\n",
    "    nb_att, nb_def, next_ships, att_cp_lost, def_cp_lost = fight(\n",
    "                [s_dread]*2, Upgrades(attack=3,defense=3),\n",
    "                [s_fighter,s_fighter,s_fighter,s_fighter,s_fighter,s_fighter,s_carrier,s_carrier], Upgrades(attack=1,defense=1,fighter=3))\n",
    "    att_cps_lost += att_cp_lost\n",
    "    def_cps_lost += def_cp_lost\n",
    "    if nb_att == 0:\n",
    "        def_wins += 1\n",
    "    else:\n",
    "        att_wins += 1\n",
    "\n",
    "# 10000 sims, 2 BD def 2 boarding 2 won 60%, 2 CA 2-2 security 2 won 40%\n",
    "# 10000 sims, 2 BD def 2 boarding 2 won 24%, 3 CA 2-2 security 2 won 76%\n",
    "\n",
    "# 10000 sims, 2 BD vs 1 DN, BD won 48.5%, DN won 51.5%\n",
    "# 10000 sims, 2 BD def 2 boarding 2 won 39%, 5 scouts 1-1 security 0 won 61%\n",
    "# 10000 sims, 2 BD def 2 boarding 2 won 23%, 6 scouts 1-1 security 0 won 77%\n",
    "# 1000  sims, 3 BD def 0 boarding 1 won 10%, 7 scouts 0-0 won 90%\n",
    "# 10000 sims, 3 BD def 2 boarding 2 won 43%, 7 scouts 1-1 security 0 won 57%\n",
    "# 10000 sims, 3 BD def 2 boarding 2 won 34%, 7 scouts 1-1 security 1 won 66%\n",
    "# 10000 sims, 3 BD def 2 boarding 2 won 23%, 7 scouts 1-1 security 2 won 77%\n",
    "\n",
    "print('{:5} sims, ATT won {:2.0f}% [lost:{:.1f}], DEF won {:2.0f}% [lost:{:.1f}]'.format(\n",
    "    nb_sims, 100. * att_wins / nb_sims, 1. * att_cps_lost / nb_sims, 100. * def_wins / nb_sims, 1. * def_cps_lost / nb_sims))"
   ]
  }
 ],
 "metadata": {
  "kernelspec": {
   "display_name": "Python 3",
   "language": "python",
   "name": "python3"
  },
  "language_info": {
   "codemirror_mode": {
    "name": "ipython",
    "version": 3
   },
   "file_extension": ".py",
   "mimetype": "text/x-python",
   "name": "python",
   "nbconvert_exporter": "python",
   "pygments_lexer": "ipython3",
   "version": "3.6.0"
  }
 },
 "nbformat": 4,
 "nbformat_minor": 2
}
